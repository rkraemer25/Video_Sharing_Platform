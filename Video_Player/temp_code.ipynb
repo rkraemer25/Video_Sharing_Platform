{
 "cells": [
  {
   "cell_type": "code",
   "execution_count": 12,
   "id": "2280e2a0",
   "metadata": {},
   "outputs": [
    {
     "name": "stdout",
     "output_type": "stream",
     "text": [
      "['id1', 'Matrix Multip', '', 'https://www.youtube.com/embed/LXKku-IbSak', 'math']\n",
      "['id2', 'Life goes on ', '', 'https://www.youtube.com/embed/Hg7BGS7ap3I', 'philosophy']\n",
      "['id3', 'Mistake/Mystique', '', 'https://www.youtube.com/embed/VQrhl7KJ0m4', 'philosophy']\n"
     ]
    },
    {
     "data": {
      "text/plain": [
       "'{\"columns\": [0, 1, 2, 3, 4], \"values\": [[\"id1\", \"Matrix Multip\", \"\", \"https://www.youtube.com/embed/LXKku-IbSak\", \"math\"], [\"id2\", \"Life goes on \", \"\", \"https://www.youtube.com/embed/Hg7BGS7ap3I\", \"philosophy\"], [\"id3\", \"Mistake/Mystique\", \"\", \"https://www.youtube.com/embed/VQrhl7KJ0m4\", \"philosophy\"]]}'"
      ]
     },
     "execution_count": 12,
     "metadata": {},
     "output_type": "execute_result"
    }
   ],
   "source": [
    "import csv\n",
    "import json\n",
    "urls_list = {\"columns\": [], \"values\": []}\n",
    "    \n",
    "with open(\"../static/data/video_urls.txt\", 'r') as f:\n",
    "    reader = csv.reader(f, delimiter=',', skipinitialspace=True)\n",
    "    next(reader)\n",
    "    for row in reader:\n",
    "        print(row)\n",
    "        urls_list[\"values\"].append(row)\n",
    "        urls_list[\"columns\"] = [c for c in range(len(urls_list[\"values\"][0]))]\n",
    "        \n",
    "json.dumps(urls_list)\n"
   ]
  },
  {
   "cell_type": "code",
   "execution_count": 8,
   "id": "daee04b8",
   "metadata": {},
   "outputs": [
    {
     "data": {
      "text/plain": [
       "'{\\n\"columns\": [0, 1, 2, 3],\\n\"values\" : [\\n    [\"id1\", \"Matrix Multip\", \"\", \"https://www.youtube.com/embed/LXKku-IbSak\", \"Math\"],\\n    [\"id2\", \"Life goes on \", \"\", \"https://www.youtube.com/embed/Hg7BGS7ap3I\", \"Philosophy\"],\\n    [\"id3\", \"Mistake/Mystique\", \"\", \"https://www.youtube.com/embed/VQrhl7KJ0m4\", \"Philosophy\"]\\n]\\n}'"
      ]
     },
     "execution_count": 8,
     "metadata": {},
     "output_type": "execute_result"
    }
   ],
   "source": [
    "DEFAULT_LIST= '''{\n",
    "\"columns\": [0, 1, 2, 3],\n",
    "\"values\" : [\n",
    "    [\"id1\", \"Matrix Multip\", \"\", \"https://www.youtube.com/embed/LXKku-IbSak\", \"Math\"],\n",
    "    [\"id2\", \"Life goes on \", \"\", \"https://www.youtube.com/embed/Hg7BGS7ap3I\", \"Philosophy\"],\n",
    "    [\"id3\", \"Mistake/Mystique\", \"\", \"https://www.youtube.com/embed/VQrhl7KJ0m4\", \"Philosophy\"]\n",
    "]\n",
    "}'''\n",
    "DEFAULT_LIST"
   ]
  },
  {
   "cell_type": "code",
   "execution_count": null,
   "id": "41b20a86",
   "metadata": {},
   "outputs": [],
   "source": []
  }
 ],
 "metadata": {
  "kernelspec": {
   "display_name": "Python 3 (ipykernel)",
   "language": "python",
   "name": "python3"
  },
  "language_info": {
   "codemirror_mode": {
    "name": "ipython",
    "version": 3
   },
   "file_extension": ".py",
   "mimetype": "text/x-python",
   "name": "python",
   "nbconvert_exporter": "python",
   "pygments_lexer": "ipython3",
   "version": "3.10.0"
  }
 },
 "nbformat": 4,
 "nbformat_minor": 5
}
