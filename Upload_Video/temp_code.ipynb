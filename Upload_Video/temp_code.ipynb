{
 "cells": [
  {
   "cell_type": "code",
   "execution_count": 21,
   "id": "fca4b458",
   "metadata": {},
   "outputs": [],
   "source": [
    "import csv"
   ]
  },
  {
   "cell_type": "code",
   "execution_count": 22,
   "id": "8da50491",
   "metadata": {},
   "outputs": [],
   "source": [
    "arr = [\"Name\", \"URL\", \"TAG\"]"
   ]
  },
  {
   "cell_type": "code",
   "execution_count": 23,
   "id": "22cfa358",
   "metadata": {},
   "outputs": [],
   "source": [
    "def write_to_file(array):\n",
    "    print(arr)\n",
    "    with open(\"../static/data/video_url_test_data.txt\", 'a') as f:\n",
    "        writer = csv.writer(f)\n",
    "        writer.writerow(array)"
   ]
  },
  {
   "cell_type": "code",
   "execution_count": 24,
   "id": "b2c5fe13",
   "metadata": {},
   "outputs": [],
   "source": [
    "write_to_file(arr)"
   ]
  },
  {
   "cell_type": "code",
   "execution_count": null,
   "id": "6067629a",
   "metadata": {},
   "outputs": [],
   "source": []
  }
 ],
 "metadata": {
  "kernelspec": {
   "display_name": "Python 3 (ipykernel)",
   "language": "python",
   "name": "python3"
  },
  "language_info": {
   "codemirror_mode": {
    "name": "ipython",
    "version": 3
   },
   "file_extension": ".py",
   "mimetype": "text/x-python",
   "name": "python",
   "nbconvert_exporter": "python",
   "pygments_lexer": "ipython3",
   "version": "3.10.0"
  }
 },
 "nbformat": 4,
 "nbformat_minor": 5
}
